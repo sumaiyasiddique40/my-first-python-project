{
 "cells": [
  {
   "cell_type": "code",
   "execution_count": 3,
   "id": "29cc4b39-7e15-4efc-972d-6206f1f451b2",
   "metadata": {},
   "outputs": [
    {
     "name": "stdin",
     "output_type": "stream",
     "text": [
      " sumaiya\n"
     ]
    },
    {
     "name": "stdout",
     "output_type": "stream",
     "text": [
      "its me\n"
     ]
    },
    {
     "name": "stdin",
     "output_type": "stream",
     "text": [
      " sakiba\n"
     ]
    },
    {
     "name": "stdout",
     "output_type": "stream",
     "text": [
      "its my sister\n"
     ]
    },
    {
     "name": "stdin",
     "output_type": "stream",
     "text": [
      " Hello\n"
     ]
    },
    {
     "name": "stdout",
     "output_type": "stream",
     "text": [
      "Hi\n"
     ]
    },
    {
     "name": "stdin",
     "output_type": "stream",
     "text": [
      " varsity name\n"
     ]
    },
    {
     "name": "stdout",
     "output_type": "stream",
     "text": [
      "Jashore University Of Science And Technology\n"
     ]
    },
    {
     "name": "stdin",
     "output_type": "stream",
     "text": [
      " Whats your name\n"
     ]
    },
    {
     "name": "stdout",
     "output_type": "stream",
     "text": [
      "i don't know\n"
     ]
    },
    {
     "name": "stdin",
     "output_type": "stream",
     "text": [
      " quit\n"
     ]
    }
   ],
   "source": [
    "que={\n",
    "    'Hello':'Hi',\n",
    "    'whats your name':'my name is Sumaiya',\n",
    "    'varsity name':'Jashore University Of Science And Technology',\n",
    "    'How old are you?':'I am 20 years old',\n",
    "    'where do you live in':'Barisal',\n",
    "    'sumaiya':'its me',\n",
    "    'sakiba':'its my sister'\n",
    "}\n",
    "while True:\n",
    "    try:\n",
    "        ques=input()\n",
    "        if ques=='quit':\n",
    "            break\n",
    "        else:\n",
    "            print(que[ques])\n",
    "    except:\n",
    "        print(\"i don't know\")"
   ]
  }
 ],
 "metadata": {
  "kernelspec": {
   "display_name": "Python 3 (ipykernel)",
   "language": "python",
   "name": "python3"
  },
  "language_info": {
   "codemirror_mode": {
    "name": "ipython",
    "version": 3
   },
   "file_extension": ".py",
   "mimetype": "text/x-python",
   "name": "python",
   "nbconvert_exporter": "python",
   "pygments_lexer": "ipython3",
   "version": "3.12.4"
  }
 },
 "nbformat": 4,
 "nbformat_minor": 5
}
