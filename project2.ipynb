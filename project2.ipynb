{
 "cells": [
  {
   "cell_type": "code",
   "execution_count": 1,
   "id": "f07a6d95-08f8-4740-84e8-16e0c4e6c2c1",
   "metadata": {},
   "outputs": [
    {
     "name": "stdin",
     "output_type": "stream",
     "text": [
      "enter the question:  sakiba\n",
      "enter the question:  sumaiya\n",
      "enter the question:  hello\n",
      "enter the question:  quit\n"
     ]
    }
   ],
   "source": [
    "import pyttsx3\n",
    "que = {\n",
    "    'Hello': 'Hi',\n",
    "    'whats your name': 'my name is Sumaiya',\n",
    "    'varsity name': 'Jashore University Of Science And Technology',\n",
    "    'How old are you?': 'I am 20 years old',\n",
    "    'where do you live in': 'Barisal',\n",
    "    'sumaiya': 'its me',\n",
    "    'sakiba': 'its my sister'\n",
    "}\n",
    "friend = pyttsx3.init()\n",
    "while True:\n",
    "    ques = input(\"enter the question: \")\n",
    "    if ques == 'quit':\n",
    "        break\n",
    "    response = que.get(ques, \"Sorry, I don't understand that question.\")\n",
    "    friend.say(response)\n",
    "    friend.runAndWait()\n"
   ]
  },
  {
   "cell_type": "code",
   "execution_count": null,
   "id": "1cf3a344-fa5e-4bee-b930-912cf901e000",
   "metadata": {},
   "outputs": [],
   "source": []
  }
 ],
 "metadata": {
  "kernelspec": {
   "display_name": "Python 3 (ipykernel)",
   "language": "python",
   "name": "python3"
  },
  "language_info": {
   "codemirror_mode": {
    "name": "ipython",
    "version": 3
   },
   "file_extension": ".py",
   "mimetype": "text/x-python",
   "name": "python",
   "nbconvert_exporter": "python",
   "pygments_lexer": "ipython3",
   "version": "3.12.4"
  }
 },
 "nbformat": 4,
 "nbformat_minor": 5
}
