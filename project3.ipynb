{
 "cells": [
  {
   "cell_type": "code",
   "execution_count": null,
   "id": "98b02f6d-342b-407f-8585-5b1fa168bebd",
   "metadata": {},
   "outputs": [],
   "source": [
    "import phonenumbers\n",
    "from phonenumbers import timezone,geocoder,carrier\n",
    "number=input(\"enter the number: \")\n",
    "phone=phonenumbers.parse(number)\n",
    "time=timezone.time_zones_for_number(phone)\n",
    "sim=carrier.name_for_number(phone,\"en\")\n",
    "register=geocoder.description_for_number(phone,\"en\")\n",
    "print(number)\n",
    "print(phone)\n",
    "print(time)\n",
    "print(sim)\n",
    "print(register)"
   ]
  },
  {
   "cell_type": "code",
   "execution_count": null,
   "id": "62f7f48e-073f-4e3c-aa72-8a9266ed0c11",
   "metadata": {},
   "outputs": [],
   "source": []
  },
  {
   "cell_type": "code",
   "execution_count": null,
   "id": "23b391f1-461d-4431-bd4d-3363288b5f12",
   "metadata": {},
   "outputs": [],
   "source": []
  }
 ],
 "metadata": {
  "kernelspec": {
   "display_name": "Python 3 (ipykernel)",
   "language": "python",
   "name": "python3"
  },
  "language_info": {
   "codemirror_mode": {
    "name": "ipython",
    "version": 3
   },
   "file_extension": ".py",
   "mimetype": "text/x-python",
   "name": "python",
   "nbconvert_exporter": "python",
   "pygments_lexer": "ipython3",
   "version": "3.12.4"
  }
 },
 "nbformat": 4,
 "nbformat_minor": 5
}
